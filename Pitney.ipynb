{
 "cells": [
  {
   "cell_type": "code",
   "execution_count": 2,
   "id": "f19a09c8-da54-4e6e-bd7d-5a8f2d273e32",
   "metadata": {},
   "outputs": [
    {
     "data": {
      "text/html": [
       "<div>\n",
       "<style scoped>\n",
       "    .dataframe tbody tr th:only-of-type {\n",
       "        vertical-align: middle;\n",
       "    }\n",
       "\n",
       "    .dataframe tbody tr th {\n",
       "        vertical-align: top;\n",
       "    }\n",
       "\n",
       "    .dataframe thead th {\n",
       "        text-align: right;\n",
       "    }\n",
       "</style>\n",
       "<table border=\"1\" class=\"dataframe\">\n",
       "  <thead>\n",
       "    <tr style=\"text-align: right;\">\n",
       "      <th></th>\n",
       "      <th>NAICS_DESC</th>\n",
       "      <th>DATE</th>\n",
       "      <th>REVENUE</th>\n",
       "      <th>anonimized_name</th>\n",
       "    </tr>\n",
       "  </thead>\n",
       "  <tbody>\n",
       "    <tr>\n",
       "      <th>0</th>\n",
       "      <td>Commercial Banking</td>\n",
       "      <td>8/30/21</td>\n",
       "      <td>22</td>\n",
       "      <td>Jason Brown INC</td>\n",
       "    </tr>\n",
       "    <tr>\n",
       "      <th>1</th>\n",
       "      <td>Commercial Banking</td>\n",
       "      <td>8/31/21</td>\n",
       "      <td>98</td>\n",
       "      <td>Jason Brown INC</td>\n",
       "    </tr>\n",
       "    <tr>\n",
       "      <th>2</th>\n",
       "      <td>Commercial Banking</td>\n",
       "      <td>9/1/21</td>\n",
       "      <td>77</td>\n",
       "      <td>Jason Brown INC</td>\n",
       "    </tr>\n",
       "    <tr>\n",
       "      <th>3</th>\n",
       "      <td>Commercial Banking</td>\n",
       "      <td>9/2/21</td>\n",
       "      <td>82</td>\n",
       "      <td>Jason Brown INC</td>\n",
       "    </tr>\n",
       "    <tr>\n",
       "      <th>4</th>\n",
       "      <td>Commercial Banking</td>\n",
       "      <td>9/3/21</td>\n",
       "      <td>76</td>\n",
       "      <td>Jason Brown INC</td>\n",
       "    </tr>\n",
       "  </tbody>\n",
       "</table>\n",
       "</div>"
      ],
      "text/plain": [
       "           NAICS_DESC     DATE  REVENUE  anonimized_name\n",
       "0  Commercial Banking  8/30/21       22  Jason Brown INC\n",
       "1  Commercial Banking  8/31/21       98  Jason Brown INC\n",
       "2  Commercial Banking   9/1/21       77  Jason Brown INC\n",
       "3  Commercial Banking   9/2/21       82  Jason Brown INC\n",
       "4  Commercial Banking   9/3/21       76  Jason Brown INC"
      ]
     },
     "execution_count": 2,
     "metadata": {},
     "output_type": "execute_result"
    }
   ],
   "source": [
    "import pandas as pd\n",
    "df = pd.read_csv('train_anonimized.csv')\n",
    "df.head()"
   ]
  },
  {
   "cell_type": "code",
   "execution_count": null,
   "id": "a7629483-7f79-4809-9bae-0bdbb849e4bd",
   "metadata": {},
   "outputs": [],
   "source": []
  }
 ],
 "metadata": {
  "kernelspec": {
   "display_name": "Python 3 (ipykernel)",
   "language": "python",
   "name": "python3"
  },
  "language_info": {
   "codemirror_mode": {
    "name": "ipython",
    "version": 3
   },
   "file_extension": ".py",
   "mimetype": "text/x-python",
   "name": "python",
   "nbconvert_exporter": "python",
   "pygments_lexer": "ipython3",
   "version": "3.9.12"
  }
 },
 "nbformat": 4,
 "nbformat_minor": 5
}
